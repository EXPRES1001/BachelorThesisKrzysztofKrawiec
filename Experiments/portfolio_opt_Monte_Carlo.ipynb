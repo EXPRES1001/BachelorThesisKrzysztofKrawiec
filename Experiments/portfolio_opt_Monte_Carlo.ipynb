{
 "cells": [
  {
   "cell_type": "markdown",
   "id": "c0fc61ca",
   "metadata": {},
   "source": [
    "# First portfolio optimization using Monte-Carlo method"
   ]
  },
  {
   "cell_type": "code",
   "execution_count": 21,
   "id": "2942d5b6",
   "metadata": {},
   "outputs": [],
   "source": [
    "import numpy as  np \n",
    "import pandas as pd\n",
    "import datetime\n",
    "import matplotlib.pyplot as plt\n",
    "import yfinance as yf\n",
    "import random"
   ]
  },
  {
   "cell_type": "code",
   "execution_count": 2,
   "id": "6266eaa8",
   "metadata": {},
   "outputs": [],
   "source": [
    "def get_stocks(tickers, start, end):\n",
    "    df = yf.download(tickers, start, end)[[\"Close\"]].reset_index()\n",
    "    df.columns = [col[1] if col[0] == 'Close' else 'Date' for col in df.columns]\n",
    "    return df"
   ]
  },
  {
   "cell_type": "code",
   "execution_count": 5,
   "id": "4d0230c6",
   "metadata": {},
   "outputs": [],
   "source": [
    "start = datetime.datetime(2023,11,15)\n",
    "end = datetime.datetime(2025,4,4)"
   ]
  },
  {
   "cell_type": "code",
   "execution_count": 6,
   "id": "e550c528",
   "metadata": {},
   "outputs": [
    {
     "name": "stdout",
     "output_type": "stream",
     "text": [
      "YF.download() has changed argument auto_adjust default to True\n"
     ]
    },
    {
     "name": "stderr",
     "output_type": "stream",
     "text": [
      "[*********************100%***********************]  5 of 5 completed\n"
     ]
    }
   ],
   "source": [
    "tickers = [\"AAPL\", \"PFE\", \"WMT\", \"XOM\", \"JPM\"]\n",
    "\n",
    "portfolio = get_stocks(tickers, start, end)\n",
    "portfolio['Date'] = pd.to_datetime(portfolio['Date'])\n",
    "portfolio.set_index('Date', inplace=True)"
   ]
  },
  {
   "cell_type": "code",
   "execution_count": 10,
   "id": "e48e9e92",
   "metadata": {},
   "outputs": [
    {
     "data": {
      "text/html": [
       "<div>\n",
       "<style scoped>\n",
       "    .dataframe tbody tr th:only-of-type {\n",
       "        vertical-align: middle;\n",
       "    }\n",
       "\n",
       "    .dataframe tbody tr th {\n",
       "        vertical-align: top;\n",
       "    }\n",
       "\n",
       "    .dataframe thead th {\n",
       "        text-align: right;\n",
       "    }\n",
       "</style>\n",
       "<table border=\"1\" class=\"dataframe\">\n",
       "  <thead>\n",
       "    <tr style=\"text-align: right;\">\n",
       "      <th></th>\n",
       "      <th>AAPL</th>\n",
       "      <th>JPM</th>\n",
       "      <th>PFE</th>\n",
       "      <th>WMT</th>\n",
       "      <th>XOM</th>\n",
       "    </tr>\n",
       "    <tr>\n",
       "      <th>Date</th>\n",
       "      <th></th>\n",
       "      <th></th>\n",
       "      <th></th>\n",
       "      <th></th>\n",
       "      <th></th>\n",
       "    </tr>\n",
       "  </thead>\n",
       "  <tbody>\n",
       "    <tr>\n",
       "      <th>2023-11-15</th>\n",
       "      <td>186.887939</td>\n",
       "      <td>144.605560</td>\n",
       "      <td>27.988173</td>\n",
       "      <td>55.563515</td>\n",
       "      <td>99.351974</td>\n",
       "    </tr>\n",
       "    <tr>\n",
       "      <th>2023-11-16</th>\n",
       "      <td>188.577805</td>\n",
       "      <td>146.256927</td>\n",
       "      <td>27.598803</td>\n",
       "      <td>51.066853</td>\n",
       "      <td>98.201843</td>\n",
       "    </tr>\n",
       "    <tr>\n",
       "      <th>2023-11-17</th>\n",
       "      <td>188.557907</td>\n",
       "      <td>147.579971</td>\n",
       "      <td>27.737864</td>\n",
       "      <td>50.841042</td>\n",
       "      <td>100.597946</td>\n",
       "    </tr>\n",
       "    <tr>\n",
       "      <th>2023-11-20</th>\n",
       "      <td>190.307404</td>\n",
       "      <td>148.033844</td>\n",
       "      <td>27.793486</td>\n",
       "      <td>50.824680</td>\n",
       "      <td>100.157074</td>\n",
       "    </tr>\n",
       "    <tr>\n",
       "      <th>2023-11-21</th>\n",
       "      <td>189.502243</td>\n",
       "      <td>147.724792</td>\n",
       "      <td>28.090147</td>\n",
       "      <td>51.007950</td>\n",
       "      <td>100.118729</td>\n",
       "    </tr>\n",
       "  </tbody>\n",
       "</table>\n",
       "</div>"
      ],
      "text/plain": [
       "                  AAPL         JPM        PFE        WMT         XOM\n",
       "Date                                                                \n",
       "2023-11-15  186.887939  144.605560  27.988173  55.563515   99.351974\n",
       "2023-11-16  188.577805  146.256927  27.598803  51.066853   98.201843\n",
       "2023-11-17  188.557907  147.579971  27.737864  50.841042  100.597946\n",
       "2023-11-20  190.307404  148.033844  27.793486  50.824680  100.157074\n",
       "2023-11-21  189.502243  147.724792  28.090147  51.007950  100.118729"
      ]
     },
     "execution_count": 10,
     "metadata": {},
     "output_type": "execute_result"
    }
   ],
   "source": [
    "portfolio.head()"
   ]
  },
  {
   "cell_type": "markdown",
   "id": "73285587",
   "metadata": {},
   "source": [
    "Let us calculated the daily returns for the five stocks in a new dataframe called “returns”. Daily returns are calculated as the percent change in the daily prices."
   ]
  },
  {
   "cell_type": "code",
   "execution_count": 11,
   "id": "41036204",
   "metadata": {},
   "outputs": [],
   "source": [
    "returns = pd.DataFrame()\n",
    "for ticker in tickers:\n",
    "    returns[ticker+' returns'] = portfolio[ticker].pct_change()"
   ]
  },
  {
   "cell_type": "code",
   "execution_count": 12,
   "id": "5bfeb412",
   "metadata": {},
   "outputs": [
    {
     "data": {
      "text/html": [
       "<div>\n",
       "<style scoped>\n",
       "    .dataframe tbody tr th:only-of-type {\n",
       "        vertical-align: middle;\n",
       "    }\n",
       "\n",
       "    .dataframe tbody tr th {\n",
       "        vertical-align: top;\n",
       "    }\n",
       "\n",
       "    .dataframe thead th {\n",
       "        text-align: right;\n",
       "    }\n",
       "</style>\n",
       "<table border=\"1\" class=\"dataframe\">\n",
       "  <thead>\n",
       "    <tr style=\"text-align: right;\">\n",
       "      <th></th>\n",
       "      <th>AAPL returns</th>\n",
       "      <th>PFE returns</th>\n",
       "      <th>WMT returns</th>\n",
       "      <th>XOM returns</th>\n",
       "      <th>JPM returns</th>\n",
       "    </tr>\n",
       "    <tr>\n",
       "      <th>Date</th>\n",
       "      <th></th>\n",
       "      <th></th>\n",
       "      <th></th>\n",
       "      <th></th>\n",
       "      <th></th>\n",
       "    </tr>\n",
       "  </thead>\n",
       "  <tbody>\n",
       "    <tr>\n",
       "      <th>2023-11-15</th>\n",
       "      <td>NaN</td>\n",
       "      <td>NaN</td>\n",
       "      <td>NaN</td>\n",
       "      <td>NaN</td>\n",
       "      <td>NaN</td>\n",
       "    </tr>\n",
       "    <tr>\n",
       "      <th>2023-11-16</th>\n",
       "      <td>0.009042</td>\n",
       "      <td>-0.013912</td>\n",
       "      <td>-0.080928</td>\n",
       "      <td>-0.011576</td>\n",
       "      <td>0.011420</td>\n",
       "    </tr>\n",
       "    <tr>\n",
       "      <th>2023-11-17</th>\n",
       "      <td>-0.000106</td>\n",
       "      <td>0.005039</td>\n",
       "      <td>-0.004422</td>\n",
       "      <td>0.024400</td>\n",
       "      <td>0.009046</td>\n",
       "    </tr>\n",
       "    <tr>\n",
       "      <th>2023-11-20</th>\n",
       "      <td>0.009278</td>\n",
       "      <td>0.002005</td>\n",
       "      <td>-0.000322</td>\n",
       "      <td>-0.004383</td>\n",
       "      <td>0.003075</td>\n",
       "    </tr>\n",
       "    <tr>\n",
       "      <th>2023-11-21</th>\n",
       "      <td>-0.004231</td>\n",
       "      <td>0.010674</td>\n",
       "      <td>0.003606</td>\n",
       "      <td>-0.000383</td>\n",
       "      <td>-0.002088</td>\n",
       "    </tr>\n",
       "  </tbody>\n",
       "</table>\n",
       "</div>"
      ],
      "text/plain": [
       "            AAPL returns  PFE returns  WMT returns  XOM returns  JPM returns\n",
       "Date                                                                        \n",
       "2023-11-15           NaN          NaN          NaN          NaN          NaN\n",
       "2023-11-16      0.009042    -0.013912    -0.080928    -0.011576     0.011420\n",
       "2023-11-17     -0.000106     0.005039    -0.004422     0.024400     0.009046\n",
       "2023-11-20      0.009278     0.002005    -0.000322    -0.004383     0.003075\n",
       "2023-11-21     -0.004231     0.010674     0.003606    -0.000383    -0.002088"
      ]
     },
     "execution_count": 12,
     "metadata": {},
     "output_type": "execute_result"
    }
   ],
   "source": [
    "returns.head()"
   ]
  },
  {
   "cell_type": "markdown",
   "id": "99e62502",
   "metadata": {},
   "source": [
    "Annual returns for each stock plus covariance matrix"
   ]
  },
  {
   "cell_type": "code",
   "execution_count": 13,
   "id": "080af1e9",
   "metadata": {},
   "outputs": [
    {
     "data": {
      "text/plain": [
       "AAPL returns    0.091131\n",
       "PFE returns    -0.075551\n",
       "WMT returns     0.352292\n",
       "XOM returns     0.110499\n",
       "JPM returns     0.358157\n",
       "dtype: float64"
      ]
     },
     "execution_count": 13,
     "metadata": {},
     "output_type": "execute_result"
    }
   ],
   "source": [
    "(returns.mean())*252"
   ]
  },
  {
   "cell_type": "code",
   "execution_count": 14,
   "id": "433ade9f",
   "metadata": {},
   "outputs": [
    {
     "data": {
      "text/html": [
       "<div>\n",
       "<style scoped>\n",
       "    .dataframe tbody tr th:only-of-type {\n",
       "        vertical-align: middle;\n",
       "    }\n",
       "\n",
       "    .dataframe tbody tr th {\n",
       "        vertical-align: top;\n",
       "    }\n",
       "\n",
       "    .dataframe thead th {\n",
       "        text-align: right;\n",
       "    }\n",
       "</style>\n",
       "<table border=\"1\" class=\"dataframe\">\n",
       "  <thead>\n",
       "    <tr style=\"text-align: right;\">\n",
       "      <th></th>\n",
       "      <th>AAPL returns</th>\n",
       "      <th>PFE returns</th>\n",
       "      <th>WMT returns</th>\n",
       "      <th>XOM returns</th>\n",
       "      <th>JPM returns</th>\n",
       "    </tr>\n",
       "  </thead>\n",
       "  <tbody>\n",
       "    <tr>\n",
       "      <th>AAPL returns</th>\n",
       "      <td>0.059909</td>\n",
       "      <td>0.004705</td>\n",
       "      <td>0.007830</td>\n",
       "      <td>0.003668</td>\n",
       "      <td>0.009975</td>\n",
       "    </tr>\n",
       "    <tr>\n",
       "      <th>PFE returns</th>\n",
       "      <td>0.004705</td>\n",
       "      <td>0.056035</td>\n",
       "      <td>0.005404</td>\n",
       "      <td>0.007190</td>\n",
       "      <td>0.007719</td>\n",
       "    </tr>\n",
       "    <tr>\n",
       "      <th>WMT returns</th>\n",
       "      <td>0.007830</td>\n",
       "      <td>0.005404</td>\n",
       "      <td>0.044733</td>\n",
       "      <td>0.000577</td>\n",
       "      <td>0.009607</td>\n",
       "    </tr>\n",
       "    <tr>\n",
       "      <th>XOM returns</th>\n",
       "      <td>0.003668</td>\n",
       "      <td>0.007190</td>\n",
       "      <td>0.000577</td>\n",
       "      <td>0.040341</td>\n",
       "      <td>0.014634</td>\n",
       "    </tr>\n",
       "    <tr>\n",
       "      <th>JPM returns</th>\n",
       "      <td>0.009975</td>\n",
       "      <td>0.007719</td>\n",
       "      <td>0.009607</td>\n",
       "      <td>0.014634</td>\n",
       "      <td>0.055544</td>\n",
       "    </tr>\n",
       "  </tbody>\n",
       "</table>\n",
       "</div>"
      ],
      "text/plain": [
       "              AAPL returns  PFE returns  WMT returns  XOM returns  JPM returns\n",
       "AAPL returns      0.059909     0.004705     0.007830     0.003668     0.009975\n",
       "PFE returns       0.004705     0.056035     0.005404     0.007190     0.007719\n",
       "WMT returns       0.007830     0.005404     0.044733     0.000577     0.009607\n",
       "XOM returns       0.003668     0.007190     0.000577     0.040341     0.014634\n",
       "JPM returns       0.009975     0.007719     0.009607     0.014634     0.055544"
      ]
     },
     "execution_count": 14,
     "metadata": {},
     "output_type": "execute_result"
    }
   ],
   "source": [
    "returns.cov()*252"
   ]
  },
  {
   "cell_type": "code",
   "execution_count": 19,
   "id": "f6236df2",
   "metadata": {},
   "outputs": [
    {
     "data": {
      "image/png": "[encoded data removed]",
      "text/plain": [
       "<Figure size 1000x600 with 6 Axes>"
      ]
     },
     "metadata": {},
     "output_type": "display_data"
    }
   ],
   "source": [
    "returns.hist(bins=100, figsize=(10,6))\n",
    "plt.tight_layout()"
   ]
  },
  {
   "cell_type": "markdown",
   "id": "31433286",
   "metadata": {},
   "source": [
    "The distribution of the returns for each stock can be seen in the image above"
   ]
  },
  {
   "cell_type": "markdown",
   "id": "9ac6b8c5",
   "metadata": {},
   "source": [
    "Now, we will conduct a Monte Carlo optimization method on our portfolio"
   ]
  },
  {
   "cell_type": "code",
   "execution_count": 27,
   "id": "d459b95e",
   "metadata": {},
   "outputs": [],
   "source": [
    "def monte_carlo_por_opt(tickers, num=1000):\n",
    "    num_ports = num\n",
    "\n",
    "    all_weights = np.zeros((num_ports, len(tickers)))  \n",
    "    return_arr = np.zeros(num_ports)  \n",
    "    volatility_arr = np.zeros(num_ports)  \n",
    "    sharpe_arr = np.zeros(num_ports) \n",
    "\n",
    "    for i in range(num_ports):  \n",
    "        # Weights  \n",
    "        weights = np.array(np.random.random(5))  \n",
    "        weights = weights / np.sum(weights)  # normalization - ensuring that all weights sum up to 1\n",
    "        all_weights[i, :] = weights  \n",
    "        \n",
    "        # Expected return  \n",
    "        return_arr[i] = np.sum(returns.mean() * 252 * weights)  \n",
    "        \n",
    "        # Expected Volatility  \n",
    "        volatility_arr[i] = np.sqrt(np.dot(weights.T, np.dot(returns.cov() * 252, weights)))  # calculating volatility as it is from formula\n",
    "        \n",
    "        # Sharpe ratio  \n",
    "        sharpe_arr[i] = (return_arr[i] - 0.075) / volatility_arr[i]   \n",
    "\n",
    "    return sharpe_arr.max(), sharpe_arr.argmax(), all_weights[sharpe_arr.argmax(), :]"
   ]
  },
  {
   "cell_type": "code",
   "execution_count": 28,
   "id": "8cddc1d9",
   "metadata": {},
   "outputs": [
    {
     "data": {
      "text/plain": [
       "(1.5271772371721155,\n",
       " 87,\n",
       " array([0.06152489, 0.03128803, 0.59654513, 0.01665365, 0.2939883 ]))"
      ]
     },
     "execution_count": 28,
     "metadata": {},
     "output_type": "execute_result"
    }
   ],
   "source": [
    "monte_carlo_por_opt(tickers, 2000)"
   ]
  }
 ],
 "metadata": {
  "kernelspec": {
   "display_name": "Python 3",
   "language": "python",
   "name": "python3"
  },
  "language_info": {
   "codemirror_mode": {
    "name": "ipython",
    "version": 3
   },
   "file_extension": ".py",
   "mimetype": "text/x-python",
   "name": "python",
   "nbconvert_exporter": "python",
   "pygments_lexer": "ipython3",
   "version": "3.8.0"
  }
 },
 "nbformat": 4,
 "nbformat_minor": 5
}
