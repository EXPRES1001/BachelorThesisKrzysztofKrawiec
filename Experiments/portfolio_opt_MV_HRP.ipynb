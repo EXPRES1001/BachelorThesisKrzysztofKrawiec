{
 "cells": [
  {
   "cell_type": "markdown",
   "metadata": {},
   "source": [
    "# First portfolio optimization using Mean-Variance method"
   ]
  },
  {
   "cell_type": "code",
   "execution_count": 1,
   "metadata": {},
   "outputs": [],
   "source": [
    "import yfinance as yf\n",
    "import pandas as pd \n",
    "import numpy as np\n",
    "import datetime"
   ]
  },
  {
   "cell_type": "code",
   "execution_count": 2,
   "metadata": {},
   "outputs": [],
   "source": [
    "from pypfopt.expected_returns import mean_historical_return\n",
    "from pypfopt.risk_models import CovarianceShrinkage\n",
    "from pypfopt.efficient_frontier import EfficientFrontier\n",
    "from pypfopt.discrete_allocation import DiscreteAllocation, get_latest_prices"
   ]
  },
  {
   "cell_type": "markdown",
   "metadata": {},
   "source": [
    "Now, let’s pull stocks for the  industries:\n",
    "\n",
    "Healthcare: Moderna (MRNA), Pfizer (PFE), Johnson & Johnson (JNJ)\n",
    "\n",
    "Tech: Google (GOOGL), Apple (AAPL)\n",
    "\n",
    "Retail: Costco (COST), Walmart (WMT),  Kroger Co (KR)\n",
    "\n",
    "Finance: JPMorgan Chase & Co (JPM), Bank of America (BAC)"
   ]
  },
  {
   "cell_type": "code",
   "execution_count": 3,
   "metadata": {},
   "outputs": [],
   "source": [
    "tickers = ['MRNA', 'PFE', 'JNJ', 'GOOGL', 'AAPL', 'COST', 'WMT', 'KR', 'JPM', 'BAC']"
   ]
  },
  {
   "cell_type": "markdown",
   "metadata": {},
   "source": [
    "Define helper function for downloading stocks data; set start and end date for retrieving data"
   ]
  },
  {
   "cell_type": "code",
   "execution_count": 4,
   "metadata": {},
   "outputs": [],
   "source": [
    "start = datetime.datetime(2024,11,15)\n",
    "end = datetime.datetime(2025,4,4)"
   ]
  },
  {
   "cell_type": "code",
   "execution_count": 5,
   "metadata": {},
   "outputs": [],
   "source": [
    "def get_stocks(tickers, start, end):\n",
    "    df = yf.download(tickers, start, end)[[\"Close\"]].reset_index()\n",
    "    df.columns = [col[1] if col[0] == 'Close' else 'Date' for col in df.columns]\n",
    "    return df"
   ]
  },
  {
   "cell_type": "markdown",
   "metadata": {},
   "source": [
    "Download stocks, save it to csv, read it again, set a column format for 'Date', change it to index column"
   ]
  },
  {
   "cell_type": "code",
   "execution_count": 6,
   "metadata": {},
   "outputs": [
    {
     "name": "stdout",
     "output_type": "stream",
     "text": [
      "YF.download() has changed argument auto_adjust default to True\n"
     ]
    },
    {
     "name": "stderr",
     "output_type": "stream",
     "text": [
      "[*********************100%***********************]  10 of 10 completed\n"
     ]
    }
   ],
   "source": [
    "portfolio = get_stocks(tickers, start=start, end=end)\n",
    "\n",
    "portfolio['Date'] = pd.to_datetime(portfolio['Date'])\n",
    "portfolio.set_index('Date', inplace=True)"
   ]
  },
  {
   "cell_type": "markdown",
   "metadata": {},
   "source": [
    "Now, let’s calculate the covariance matrix and store the calculated returns in variables S and mu, respectively:"
   ]
  },
  {
   "cell_type": "code",
   "execution_count": 7,
   "metadata": {},
   "outputs": [],
   "source": [
    "mu = mean_historical_return(portfolio)\n",
    "S = CovarianceShrinkage(portfolio).ledoit_wolf()"
   ]
  },
  {
   "cell_type": "markdown",
   "metadata": {},
   "source": [
    " The Sharpe ratio is the ratio between returns and risk. The lower the risk and the higher the returns, the higher the Sharpe ratio."
   ]
  },
  {
   "cell_type": "markdown",
   "metadata": {},
   "source": [
    "The algorithm looks for the maximum Sharpe ratio, which translates to the portfolio with the highest return and lowest risk. Ultimately, the higher the Sharpe ratio, the better the performance of the portfolio. "
   ]
  },
  {
   "cell_type": "code",
   "execution_count": 8,
   "metadata": {},
   "outputs": [
    {
     "name": "stdout",
     "output_type": "stream",
     "text": [
      "{'AAPL': 0.0, 'BAC': 0.0, 'COST': 0.19311, 'GOOGL': 0.0, 'JNJ': 0.04043, 'JPM': 0.0, 'KR': 0.76646, 'MRNA': 0.0, 'PFE': 0.0, 'WMT': 0.0}\n"
     ]
    }
   ],
   "source": [
    "ef = EfficientFrontier(mu, S)\n",
    "weights = ef.max_sharpe()\n",
    "\n",
    "cleaned_weights = ef.clean_weights()\n",
    "print(dict(cleaned_weights))"
   ]
  },
  {
   "cell_type": "code",
   "execution_count": 9,
   "metadata": {},
   "outputs": [
    {
     "name": "stdout",
     "output_type": "stream",
     "text": [
      "Expected annual return: 60.6%\n",
      "Annual volatility: 21.0%\n",
      "Sharpe Ratio: 2.79\n"
     ]
    },
    {
     "data": {
      "text/plain": [
       "(0.6060398995048926, 0.21002831300023747, 2.7902899905891734)"
      ]
     },
     "execution_count": 9,
     "metadata": {},
     "output_type": "execute_result"
    }
   ],
   "source": [
    "ef.portfolio_performance(verbose=True)"
   ]
  },
  {
   "cell_type": "markdown",
   "metadata": {},
   "source": [
    "Finally, let’s convert the weights into actual allocations values (i.e., how many of each stock to buy). For our allocation, let’s consider an investment amount of $100,000:"
   ]
  },
  {
   "cell_type": "code",
   "execution_count": 10,
   "metadata": {},
   "outputs": [
    {
     "name": "stdout",
     "output_type": "stream",
     "text": [
      "AAPL     203.190002\n",
      "BAC       37.220001\n",
      "COST     967.080017\n",
      "GOOGL    150.720001\n",
      "JNJ      159.820007\n",
      "JPM      227.290009\n",
      "KR        70.739998\n",
      "MRNA      25.730000\n",
      "PFE       24.290001\n",
      "WMT       87.260002\n",
      "Name: 2025-04-03 00:00:00, dtype: float64\n"
     ]
    }
   ],
   "source": [
    "latest_prices = get_latest_prices(portfolio)\n",
    "print(latest_prices)"
   ]
  },
  {
   "cell_type": "code",
   "execution_count": 11,
   "metadata": {},
   "outputs": [
    {
     "name": "stdout",
     "output_type": "stream",
     "text": [
      "Discrete allocation: {'KR': 1083, 'COST': 20, 'JNJ': 25}\n",
      "Funds remaining: $51.48\n"
     ]
    }
   ],
   "source": [
    "da = DiscreteAllocation(weights, latest_prices, total_portfolio_value=100000)\n",
    "\n",
    "allocation, leftover = da.greedy_portfolio()\n",
    "print(\"Discrete allocation:\", allocation)\n",
    "print(\"Funds remaining: ${:.2f}\".format(leftover))"
   ]
  },
  {
   "cell_type": "markdown",
   "metadata": {},
   "source": [
    "Of course, this return is inflated and is not likely to hold up in the future. "
   ]
  },
  {
   "cell_type": "markdown",
   "metadata": {},
   "source": [
    "Mean variance optimization doesn’t perform very well since it makes many simplifying assumptions, such as returns being normally distributed and the need for an invertible covariance matrix. Fortunately, method like Hierarchical Risk Parity address these limitations. "
   ]
  },
  {
   "cell_type": "markdown",
   "metadata": {},
   "source": [
    "# First portfolio optimization using Hierarchical Risk Parity method"
   ]
  },
  {
   "cell_type": "code",
   "execution_count": 12,
   "metadata": {},
   "outputs": [],
   "source": [
    "from pypfopt import HRPOpt"
   ]
  },
  {
   "cell_type": "markdown",
   "metadata": {},
   "source": [
    "We then need to calculate the returns:"
   ]
  },
  {
   "cell_type": "code",
   "execution_count": 13,
   "metadata": {},
   "outputs": [
    {
     "data": {
      "text/html": [
       "<div>\n",
       "<style scoped>\n",
       "    .dataframe tbody tr th:only-of-type {\n",
       "        vertical-align: middle;\n",
       "    }\n",
       "\n",
       "    .dataframe tbody tr th {\n",
       "        vertical-align: top;\n",
       "    }\n",
       "\n",
       "    .dataframe thead th {\n",
       "        text-align: right;\n",
       "    }\n",
       "</style>\n",
       "<table border=\"1\" class=\"dataframe\">\n",
       "  <thead>\n",
       "    <tr style=\"text-align: right;\">\n",
       "      <th></th>\n",
       "      <th>AAPL</th>\n",
       "      <th>BAC</th>\n",
       "      <th>COST</th>\n",
       "      <th>GOOGL</th>\n",
       "      <th>JNJ</th>\n",
       "      <th>JPM</th>\n",
       "      <th>KR</th>\n",
       "      <th>MRNA</th>\n",
       "      <th>PFE</th>\n",
       "      <th>WMT</th>\n",
       "    </tr>\n",
       "    <tr>\n",
       "      <th>Date</th>\n",
       "      <th></th>\n",
       "      <th></th>\n",
       "      <th></th>\n",
       "      <th></th>\n",
       "      <th></th>\n",
       "      <th></th>\n",
       "      <th></th>\n",
       "      <th></th>\n",
       "      <th></th>\n",
       "      <th></th>\n",
       "    </tr>\n",
       "  </thead>\n",
       "  <tbody>\n",
       "    <tr>\n",
       "      <th>2024-11-18</th>\n",
       "      <td>0.013422</td>\n",
       "      <td>-0.000642</td>\n",
       "      <td>0.013714</td>\n",
       "      <td>0.016291</td>\n",
       "      <td>0.005000</td>\n",
       "      <td>-0.001141</td>\n",
       "      <td>0.000689</td>\n",
       "      <td>0.072185</td>\n",
       "      <td>0.002419</td>\n",
       "      <td>-0.002018</td>\n",
       "    </tr>\n",
       "    <tr>\n",
       "      <th>2024-11-19</th>\n",
       "      <td>0.001140</td>\n",
       "      <td>-0.006635</td>\n",
       "      <td>0.011571</td>\n",
       "      <td>0.016087</td>\n",
       "      <td>-0.011436</td>\n",
       "      <td>-0.007917</td>\n",
       "      <td>0.000689</td>\n",
       "      <td>-0.056188</td>\n",
       "      <td>0.009654</td>\n",
       "      <td>0.029971</td>\n",
       "    </tr>\n",
       "    <tr>\n",
       "      <th>2024-11-20</th>\n",
       "      <td>0.003154</td>\n",
       "      <td>-0.007541</td>\n",
       "      <td>-0.002225</td>\n",
       "      <td>-0.012014</td>\n",
       "      <td>0.000719</td>\n",
       "      <td>-0.009503</td>\n",
       "      <td>-0.008434</td>\n",
       "      <td>-0.009386</td>\n",
       "      <td>-0.006375</td>\n",
       "      <td>0.006698</td>\n",
       "    </tr>\n",
       "    <tr>\n",
       "      <th>2024-11-21</th>\n",
       "      <td>-0.002096</td>\n",
       "      <td>0.008684</td>\n",
       "      <td>0.029706</td>\n",
       "      <td>-0.047449</td>\n",
       "      <td>0.015610</td>\n",
       "      <td>0.016530</td>\n",
       "      <td>0.016837</td>\n",
       "      <td>0.035463</td>\n",
       "      <td>0.007618</td>\n",
       "      <td>0.013879</td>\n",
       "    </tr>\n",
       "    <tr>\n",
       "      <th>2024-11-22</th>\n",
       "      <td>0.005908</td>\n",
       "      <td>0.011623</td>\n",
       "      <td>0.008748</td>\n",
       "      <td>-0.017121</td>\n",
       "      <td>-0.002122</td>\n",
       "      <td>0.015485</td>\n",
       "      <td>0.010925</td>\n",
       "      <td>0.074771</td>\n",
       "      <td>0.020692</td>\n",
       "      <td>0.023193</td>\n",
       "    </tr>\n",
       "  </tbody>\n",
       "</table>\n",
       "</div>"
      ],
      "text/plain": [
       "                AAPL       BAC      COST     GOOGL       JNJ       JPM  \\\n",
       "Date                                                                     \n",
       "2024-11-18  0.013422 -0.000642  0.013714  0.016291  0.005000 -0.001141   \n",
       "2024-11-19  0.001140 -0.006635  0.011571  0.016087 -0.011436 -0.007917   \n",
       "2024-11-20  0.003154 -0.007541 -0.002225 -0.012014  0.000719 -0.009503   \n",
       "2024-11-21 -0.002096  0.008684  0.029706 -0.047449  0.015610  0.016530   \n",
       "2024-11-22  0.005908  0.011623  0.008748 -0.017121 -0.002122  0.015485   \n",
       "\n",
       "                  KR      MRNA       PFE       WMT  \n",
       "Date                                                \n",
       "2024-11-18  0.000689  0.072185  0.002419 -0.002018  \n",
       "2024-11-19  0.000689 -0.056188  0.009654  0.029971  \n",
       "2024-11-20 -0.008434 -0.009386 -0.006375  0.006698  \n",
       "2024-11-21  0.016837  0.035463  0.007618  0.013879  \n",
       "2024-11-22  0.010925  0.074771  0.020692  0.023193  "
      ]
     },
     "execution_count": 13,
     "metadata": {},
     "output_type": "execute_result"
    }
   ],
   "source": [
    "returns = portfolio.pct_change().dropna()\n",
    "returns.head()"
   ]
  },
  {
   "cell_type": "markdown",
   "metadata": {},
   "source": [
    "Then run the optimization algorithm to get the weights"
   ]
  },
  {
   "cell_type": "code",
   "execution_count": 14,
   "metadata": {},
   "outputs": [],
   "source": [
    "hrp = HRPOpt(returns)\n",
    "hrp_weights = hrp.optimize()"
   ]
  },
  {
   "cell_type": "code",
   "execution_count": 15,
   "metadata": {},
   "outputs": [
    {
     "name": "stdout",
     "output_type": "stream",
     "text": [
      "Expected annual return: 5.6%\n",
      "Annual volatility: 12.2%\n",
      "Sharpe Ratio: 0.29\n",
      "{'AAPL': 0.05228331083949059, 'BAC': 0.07378326510395987, 'COST': 0.11088342480841161, 'GOOGL': 0.10011528266316701, 'JNJ': 0.14761060853326138, 'JPM': 0.10114497633458923, 'KR': 0.18145181296267565, 'MRNA': 0.017056536700147982, 'PFE': 0.15225643926607305, 'WMT': 0.0634143427882236}\n"
     ]
    }
   ],
   "source": [
    "hrp.portfolio_performance(verbose=True)\n",
    "print(dict(hrp_weights))"
   ]
  },
  {
   "cell_type": "markdown",
   "metadata": {},
   "source": [
    "This result is much more reasonable and more likely to hold up in the future since HRP is not as sensitive to outliers as mean variance optimization is. \n",
    "\n",
    "Finally, let’s calculate the discrete allocation using our weights:"
   ]
  },
  {
   "cell_type": "code",
   "execution_count": 16,
   "metadata": {},
   "outputs": [
    {
     "name": "stdout",
     "output_type": "stream",
     "text": [
      "Discrete allocation (HRP): {'KR': 257, 'PFE': 627, 'JNJ': 93, 'COST': 11, 'JPM': 45, 'GOOGL': 67, 'BAC': 198, 'WMT': 73, 'AAPL': 26, 'MRNA': 67}\n",
      "Funds remaining (HRP): $16.17\n"
     ]
    }
   ],
   "source": [
    "da_hrp = DiscreteAllocation(hrp_weights, latest_prices, total_portfolio_value=100000)\n",
    "\n",
    "allocation, leftover = da_hrp.greedy_portfolio()\n",
    "print(\"Discrete allocation (HRP):\", allocation)\n",
    "print(\"Funds remaining (HRP): ${:.2f}\".format(leftover))"
   ]
  },
  {
   "cell_type": "markdown",
   "metadata": {},
   "source": [
    "While the performance decreased, we can be more confident that this model will perform just as well when we refresh our data."
   ]
  }
 ],
 "metadata": {
  "kernelspec": {
   "display_name": "Python 3",
   "language": "python",
   "name": "python3"
  },
  "language_info": {
   "codemirror_mode": {
    "name": "ipython",
    "version": 3
   },
   "file_extension": ".py",
   "mimetype": "text/x-python",
   "name": "python",
   "nbconvert_exporter": "python",
   "pygments_lexer": "ipython3",
   "version": "3.8.0"
  }
 },
 "nbformat": 4,
 "nbformat_minor": 2
}
